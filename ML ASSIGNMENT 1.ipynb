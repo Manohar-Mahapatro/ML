{
 "cells": [
  {
   "cell_type": "markdown",
   "metadata": {},
   "source": [
    "### 1. What does one mean by the term \"machine learning\"? "
   ]
  },
  {
   "cell_type": "markdown",
   "metadata": {},
   "source": [
    "Machine learning is subset of artificial intelligence (AI) that focuses on the use of data and algorithms to imitate the way that humans learn, gradually improving its accuracy."
   ]
  },
  {
   "cell_type": "markdown",
   "metadata": {},
   "source": [
    "### 2.Can you think of 4 distinct types of issues where it shines? "
   ]
  },
  {
   "cell_type": "markdown",
   "metadata": {},
   "source": [
    "Image and Object Recognition - self-driving cars                        \n",
    "Recommendation Systems - suggest products, movies, music, or content to users                    \n",
    "Medical Diagnosis - predict patient outcomes                              \n",
    "Fraud Detection - used by banks and credit card companies to prevent unauthorized transactions.         "
   ]
  },
  {
   "cell_type": "markdown",
   "metadata": {},
   "source": [
    "### 3.What is a labeled training set, and how does it work? "
   ]
  },
  {
   "cell_type": "markdown",
   "metadata": {},
   "source": [
    "A labeled training set is a dataset used in supervised machine learning containing input data paired with corresponding output labels. "
   ]
  },
  {
   "cell_type": "markdown",
   "metadata": {},
   "source": [
    "### 4.What are the two most important tasks that are supervised?"
   ]
  },
  {
   "cell_type": "markdown",
   "metadata": {},
   "source": [
    "The two most important tasks that are supervised are Regression and Classification."
   ]
  },
  {
   "cell_type": "markdown",
   "metadata": {},
   "source": [
    "### 5.Can you think of four examples of unsupervised tasks? "
   ]
  },
  {
   "cell_type": "markdown",
   "metadata": {},
   "source": [
    "Clustering: Grouping similar data points together.                                     \n",
    "Dimensionality Reduction: To reduce the number of features in a dataset.                                \n",
    "Anomaly Detection: Identifies rare and unusual data points that deviate significantly from the majority.                      \n",
    "Topic Modeling: Uncovers hidden thematic structures within a collection of documents or text data.           "
   ]
  },
  {
   "cell_type": "markdown",
   "metadata": {},
   "source": [
    "### 6.State the machine learning model that would be best to make a robot walk through various unfamiliar terrains?"
   ]
  },
  {
   "cell_type": "markdown",
   "metadata": {},
   "source": [
    "Reinforcement learning model would be best suited to make a robot walk through various unfamiliar terrains."
   ]
  },
  {
   "cell_type": "markdown",
   "metadata": {},
   "source": [
    "### 7.Which algorithm will you use to divide your customers into different groups? "
   ]
  },
  {
   "cell_type": "markdown",
   "metadata": {},
   "source": [
    "To divide customers into different groups, unsupervised learning algorithms such as k-means clustering, DBSCAN, can be used."
   ]
  },
  {
   "cell_type": "markdown",
   "metadata": {},
   "source": [
    "### 8.Will you consider the problem of spam detection to be a supervised or unsupervised learning problem?"
   ]
  },
  {
   "cell_type": "markdown",
   "metadata": {},
   "source": [
    "Spam detection is a supervised learning problem."
   ]
  },
  {
   "cell_type": "markdown",
   "metadata": {},
   "source": [
    "### 9.What is the concept of an online learning system? "
   ]
  },
  {
   "cell_type": "markdown",
   "metadata": {},
   "source": [
    "An online learning system is a digital platform that enables remote access to educational content and resources for individuals to acquire knowledge and skills over the internet. Learners can engage with content, participate in discussions, and receive feedback, all without the need for physical presence in a traditional classroom setting."
   ]
  },
  {
   "cell_type": "markdown",
   "metadata": {},
   "source": [
    "### 10.What is out-of-core learning, and how does it differ from core learning? "
   ]
  },
  {
   "cell_type": "markdown",
   "metadata": {},
   "source": [
    "Out-of-core learning - If data too large to fit in memory is processed in smaller batches.               \n",
    "Core learning - conventional in-memory processing of data, suitable for datasets that can fit entirely within available memory."
   ]
  },
  {
   "cell_type": "markdown",
   "metadata": {},
   "source": [
    "### 11.What kind of learning algorithm makes predictions using a similarity measure? "
   ]
  },
  {
   "cell_type": "markdown",
   "metadata": {},
   "source": [
    "An instance-based algorithm relies on measuring the similarity between instances in order to make predictions."
   ]
  },
  {
   "cell_type": "markdown",
   "metadata": {},
   "source": [
    "### 12.What's the difference between a model parameter and a hyperparameter in a learning algorithm? "
   ]
  },
  {
   "cell_type": "markdown",
   "metadata": {},
   "source": [
    "Model Parameters: The parameters in the model that must be determined using the training data set.             \n",
    "Hyperparameters: These are adjustable parameters that must be tuned in order to obtain a model with optimal performance."
   ]
  },
  {
   "cell_type": "markdown",
   "metadata": {},
   "source": [
    "### 13.What are the criteria that model-based learning algorithms look for? What is the most popular method they use to achieve success? What method do they use to make predictions? "
   ]
  },
  {
   "cell_type": "markdown",
   "metadata": {},
   "source": [
    "Model-based learning algorithms look for patterns and relationships in data, seeking to build a predictive model that captures underlying dynamics. The most popular method they use is iteratively refining model parameters through optimization techniques like gradient descent. They often employ methods like regression, decision trees, or neural networks for success, enabling them to make predictions by applying the learned model to new input data."
   ]
  },
  {
   "cell_type": "markdown",
   "metadata": {},
   "source": [
    "### 14.Can you name four of the most important Machine Learning challenges? "
   ]
  },
  {
   "cell_type": "markdown",
   "metadata": {},
   "source": [
    "Four of the most important Machine Learning challenges are Overfitting, Underfitting, Scalability, and Data Preprocessing."
   ]
  },
  {
   "cell_type": "markdown",
   "metadata": {},
   "source": [
    "### 15.What happens if the model performs well on the training data but fails to generalize the results to new situations? Can you think of three different options? "
   ]
  },
  {
   "cell_type": "markdown",
   "metadata": {},
   "source": [
    "The model might have learned the training data too closely, capturing noise and outliers, leading to poor performance on fresh data due to its inability to generalize. this is called overfitting. Possible solutions to overfitting are regularization, hyperparameter tuning, and cross-validation."
   ]
  },
  {
   "cell_type": "markdown",
   "metadata": {},
   "source": [
    "### 16.What exactly is a test set, and why would you need one? "
   ]
  },
  {
   "cell_type": "markdown",
   "metadata": {},
   "source": [
    "A test set is a distinct dataset used to evaluate the performance of a machine learning model after it has been trained on a training dataset. It is used to estimate the generalization error that a model will make on new instances, before the model is launched in production."
   ]
  },
  {
   "cell_type": "markdown",
   "metadata": {},
   "source": [
    "### 17.What is a validation set's purpose? "
   ]
  },
  {
   "cell_type": "markdown",
   "metadata": {},
   "source": [
    "It provides the first test against unseen data, allowing data scientists to evaluate how well the model makes predictions based on the new data."
   ]
  },
  {
   "cell_type": "markdown",
   "metadata": {},
   "source": [
    "### 18.What precisely is the train-dev kit, when will you need it, how do you put it to use? "
   ]
  },
  {
   "cell_type": "markdown",
   "metadata": {},
   "source": [
    "This kit aids in preparing and curating training data, fine-tuning machine learning models, evaluating their performance, and iteratively refining the models for optimal results. Its application ensures the creation of more accurate and effective models for specific tasks."
   ]
  },
  {
   "cell_type": "markdown",
   "metadata": {},
   "source": [
    "### 19.What could go wrong if you use the test set to tune hyperparameters? "
   ]
  },
  {
   "cell_type": "markdown",
   "metadata": {},
   "source": [
    "If you tune hyperparameters using the test sets, then it may not perform well on the out-of-sample data because the model is tuned just for that specific set."
   ]
  },
  {
   "cell_type": "code",
   "execution_count": null,
   "metadata": {},
   "outputs": [],
   "source": []
  }
 ],
 "metadata": {
  "kernelspec": {
   "display_name": "Python 3",
   "language": "python",
   "name": "python3"
  },
  "language_info": {
   "codemirror_mode": {
    "name": "ipython",
    "version": 3
   },
   "file_extension": ".py",
   "mimetype": "text/x-python",
   "name": "python",
   "nbconvert_exporter": "python",
   "pygments_lexer": "ipython3",
   "version": "3.8.5"
  }
 },
 "nbformat": 4,
 "nbformat_minor": 4
}
